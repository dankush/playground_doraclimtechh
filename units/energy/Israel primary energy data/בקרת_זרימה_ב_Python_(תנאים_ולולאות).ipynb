{
  "nbformat": 4,
  "nbformat_minor": 0,
  "metadata": {
    "colab": {
      "provenance": [],
      "collapsed_sections": [
        "Jj7KpxDtN7SM"
      ]
    },
    "kernelspec": {
      "name": "python3",
      "display_name": "Python 3"
    },
    "language_info": {
      "name": "python"
    }
  },
  "cells": [
    {
      "cell_type": "markdown",
      "source": [],
      "metadata": {
        "id": "98fVAS_IM4zm"
      }
    },
    {
      "cell_type": "markdown",
      "source": [
        "\n",
        "# מטרת השיעור\n",
        "מחברת זו מיועדת ללימוד מושגי יסוד בפייתון תוך שימוש בנתוני אנרגיה אמיתיים של ישראל.\n",
        "השיעור מחולק ל-4 פרקים המדגימים שימוש בכלים בסיסיים בפייתון.\n"
      ],
      "metadata": {
        "id": "c8p3ibmDM654"
      }
    },
    {
      "cell_type": "markdown",
      "source": [
        "# פרק 1: טעינת וארגון נתונים\n",
        "\n",
        "**הסבר**: בפרק זה אנו מייבאים את הספריות הנדרשות ומגדירים נתוני אנרגיה במבנה של רשימת מילונים, שאותה נמיר למסגרת נתונים של pandas."
      ],
      "metadata": {
        "id": "Kdib0dUENAyU"
      }
    },
    {
      "cell_type": "code",
      "source": [
        "import numpy as np\n",
        "import pandas as pd\n",
        "import matplotlib.pyplot as plt\n",
        "from IPython.display import display\n",
        "\n",
        "# הגדרת סגנון עברית\n",
        "plt.rcParams['axes.unicode_minus'] = False\n",
        "plt.rcParams['font.family'] = 'sans-serif'\n",
        "plt.rcParams['font.sans-serif'] = ['DejaVu Sans']\n",
        "\n",
        "# הגדרת נתוני האנרגיה\n",
        "energy_data = [\n",
        "    {\"שנה\": 2019, \"צריכת אנרגיה כוללת\": 100.0, \"פחם\": 14.53, \"גז טבעי\": 39.80, \"נפט ומוצריו\": 46.77, \"אנרגיות מתחדשות ואחרות\": -1.09},\n",
        "    {\"שנה\": 2020, \"צריכת אנרגיה כוללת\": 100.0, \"פחם\": 13.31, \"גז טבעי\": 43.40, \"נפט ומוצריו\": 44.03, \"אנרגיות מתחדשות ואחרות\": -0.74},\n",
        "    {\"שנה\": 2021, \"צריכת אנרגיה כוללת\": 100.0, \"פחם\": 14.76, \"גז טבעי\": 43.07, \"נפט ומוצריו\": 42.67, \"אנרגיות מתחדשות ואחרות\": -0.51},\n",
        "    {\"שנה\": 2022, \"צריכת אנרגיה כוללת\": 100.0, \"פחם\": 14.31, \"גז טבעי\": 41.52, \"נפט ומוצריו\": 44.45, \"אנרגיות מתחדשות ואחרות\": -0.28},\n",
        "    {\"שנה\": 2023, \"צריכת אנרגיה כוללת\": 100.0, \"פחם\": 11.91, \"גז טבעי\": 43.61, \"נפט ומוצריו\": 44.19, \"אנרגיות מתחדשות ואחרות\": 0.38}\n",
        "]\n",
        "energy_df = pd.DataFrame(energy_data)\n",
        "print(\"נתוני צריכת אנרגיה בישראל:\")\n",
        "display(energy_df)\n"
      ],
      "metadata": {
        "colab": {
          "base_uri": "https://localhost:8080/",
          "height": 224
        },
        "id": "wEpfZ9QpNNc_",
        "outputId": "cb3c1a83-7f15-4b21-8cce-a6058ef8810d"
      },
      "execution_count": 10,
      "outputs": [
        {
          "output_type": "stream",
          "name": "stdout",
          "text": [
            "נתוני צריכת אנרגיה בישראל:\n"
          ]
        },
        {
          "output_type": "display_data",
          "data": {
            "text/plain": [
              "    שנה  צריכת אנרגיה כוללת    פחם  גז טבעי  נפט ומוצריו  \\\n",
              "0  2019               100.0  14.53    39.80        46.77   \n",
              "1  2020               100.0  13.31    43.40        44.03   \n",
              "2  2021               100.0  14.76    43.07        42.67   \n",
              "3  2022               100.0  14.31    41.52        44.45   \n",
              "4  2023               100.0  11.91    43.61        44.19   \n",
              "\n",
              "   אנרגיות מתחדשות ואחרות  \n",
              "0                   -1.09  \n",
              "1                   -0.74  \n",
              "2                   -0.51  \n",
              "3                   -0.28  \n",
              "4                    0.38  "
            ],
            "text/html": [
              "\n",
              "  <div id=\"df-eaaf979d-9ecb-4b74-a7b9-b3d5c2782c16\" class=\"colab-df-container\">\n",
              "    <div>\n",
              "<style scoped>\n",
              "    .dataframe tbody tr th:only-of-type {\n",
              "        vertical-align: middle;\n",
              "    }\n",
              "\n",
              "    .dataframe tbody tr th {\n",
              "        vertical-align: top;\n",
              "    }\n",
              "\n",
              "    .dataframe thead th {\n",
              "        text-align: right;\n",
              "    }\n",
              "</style>\n",
              "<table border=\"1\" class=\"dataframe\">\n",
              "  <thead>\n",
              "    <tr style=\"text-align: right;\">\n",
              "      <th></th>\n",
              "      <th>שנה</th>\n",
              "      <th>צריכת אנרגיה כוללת</th>\n",
              "      <th>פחם</th>\n",
              "      <th>גז טבעי</th>\n",
              "      <th>נפט ומוצריו</th>\n",
              "      <th>אנרגיות מתחדשות ואחרות</th>\n",
              "    </tr>\n",
              "  </thead>\n",
              "  <tbody>\n",
              "    <tr>\n",
              "      <th>0</th>\n",
              "      <td>2019</td>\n",
              "      <td>100.0</td>\n",
              "      <td>14.53</td>\n",
              "      <td>39.80</td>\n",
              "      <td>46.77</td>\n",
              "      <td>-1.09</td>\n",
              "    </tr>\n",
              "    <tr>\n",
              "      <th>1</th>\n",
              "      <td>2020</td>\n",
              "      <td>100.0</td>\n",
              "      <td>13.31</td>\n",
              "      <td>43.40</td>\n",
              "      <td>44.03</td>\n",
              "      <td>-0.74</td>\n",
              "    </tr>\n",
              "    <tr>\n",
              "      <th>2</th>\n",
              "      <td>2021</td>\n",
              "      <td>100.0</td>\n",
              "      <td>14.76</td>\n",
              "      <td>43.07</td>\n",
              "      <td>42.67</td>\n",
              "      <td>-0.51</td>\n",
              "    </tr>\n",
              "    <tr>\n",
              "      <th>3</th>\n",
              "      <td>2022</td>\n",
              "      <td>100.0</td>\n",
              "      <td>14.31</td>\n",
              "      <td>41.52</td>\n",
              "      <td>44.45</td>\n",
              "      <td>-0.28</td>\n",
              "    </tr>\n",
              "    <tr>\n",
              "      <th>4</th>\n",
              "      <td>2023</td>\n",
              "      <td>100.0</td>\n",
              "      <td>11.91</td>\n",
              "      <td>43.61</td>\n",
              "      <td>44.19</td>\n",
              "      <td>0.38</td>\n",
              "    </tr>\n",
              "  </tbody>\n",
              "</table>\n",
              "</div>\n",
              "    <div class=\"colab-df-buttons\">\n",
              "\n",
              "  <div class=\"colab-df-container\">\n",
              "    <button class=\"colab-df-convert\" onclick=\"convertToInteractive('df-eaaf979d-9ecb-4b74-a7b9-b3d5c2782c16')\"\n",
              "            title=\"Convert this dataframe to an interactive table.\"\n",
              "            style=\"display:none;\">\n",
              "\n",
              "  <svg xmlns=\"http://www.w3.org/2000/svg\" height=\"24px\" viewBox=\"0 -960 960 960\">\n",
              "    <path d=\"M120-120v-720h720v720H120Zm60-500h600v-160H180v160Zm220 220h160v-160H400v160Zm0 220h160v-160H400v160ZM180-400h160v-160H180v160Zm440 0h160v-160H620v160ZM180-180h160v-160H180v160Zm440 0h160v-160H620v160Z\"/>\n",
              "  </svg>\n",
              "    </button>\n",
              "\n",
              "  <style>\n",
              "    .colab-df-container {\n",
              "      display:flex;\n",
              "      gap: 12px;\n",
              "    }\n",
              "\n",
              "    .colab-df-convert {\n",
              "      background-color: #E8F0FE;\n",
              "      border: none;\n",
              "      border-radius: 50%;\n",
              "      cursor: pointer;\n",
              "      display: none;\n",
              "      fill: #1967D2;\n",
              "      height: 32px;\n",
              "      padding: 0 0 0 0;\n",
              "      width: 32px;\n",
              "    }\n",
              "\n",
              "    .colab-df-convert:hover {\n",
              "      background-color: #E2EBFA;\n",
              "      box-shadow: 0px 1px 2px rgba(60, 64, 67, 0.3), 0px 1px 3px 1px rgba(60, 64, 67, 0.15);\n",
              "      fill: #174EA6;\n",
              "    }\n",
              "\n",
              "    .colab-df-buttons div {\n",
              "      margin-bottom: 4px;\n",
              "    }\n",
              "\n",
              "    [theme=dark] .colab-df-convert {\n",
              "      background-color: #3B4455;\n",
              "      fill: #D2E3FC;\n",
              "    }\n",
              "\n",
              "    [theme=dark] .colab-df-convert:hover {\n",
              "      background-color: #434B5C;\n",
              "      box-shadow: 0px 1px 3px 1px rgba(0, 0, 0, 0.15);\n",
              "      filter: drop-shadow(0px 1px 2px rgba(0, 0, 0, 0.3));\n",
              "      fill: #FFFFFF;\n",
              "    }\n",
              "  </style>\n",
              "\n",
              "    <script>\n",
              "      const buttonEl =\n",
              "        document.querySelector('#df-eaaf979d-9ecb-4b74-a7b9-b3d5c2782c16 button.colab-df-convert');\n",
              "      buttonEl.style.display =\n",
              "        google.colab.kernel.accessAllowed ? 'block' : 'none';\n",
              "\n",
              "      async function convertToInteractive(key) {\n",
              "        const element = document.querySelector('#df-eaaf979d-9ecb-4b74-a7b9-b3d5c2782c16');\n",
              "        const dataTable =\n",
              "          await google.colab.kernel.invokeFunction('convertToInteractive',\n",
              "                                                    [key], {});\n",
              "        if (!dataTable) return;\n",
              "\n",
              "        const docLinkHtml = 'Like what you see? Visit the ' +\n",
              "          '<a target=\"_blank\" href=https://colab.research.google.com/notebooks/data_table.ipynb>data table notebook</a>'\n",
              "          + ' to learn more about interactive tables.';\n",
              "        element.innerHTML = '';\n",
              "        dataTable['output_type'] = 'display_data';\n",
              "        await google.colab.output.renderOutput(dataTable, element);\n",
              "        const docLink = document.createElement('div');\n",
              "        docLink.innerHTML = docLinkHtml;\n",
              "        element.appendChild(docLink);\n",
              "      }\n",
              "    </script>\n",
              "  </div>\n",
              "\n",
              "\n",
              "<div id=\"df-3f77b341-b1ce-4271-adcb-6f470e8ba02e\">\n",
              "  <button class=\"colab-df-quickchart\" onclick=\"quickchart('df-3f77b341-b1ce-4271-adcb-6f470e8ba02e')\"\n",
              "            title=\"Suggest charts\"\n",
              "            style=\"display:none;\">\n",
              "\n",
              "<svg xmlns=\"http://www.w3.org/2000/svg\" height=\"24px\"viewBox=\"0 0 24 24\"\n",
              "     width=\"24px\">\n",
              "    <g>\n",
              "        <path d=\"M19 3H5c-1.1 0-2 .9-2 2v14c0 1.1.9 2 2 2h14c1.1 0 2-.9 2-2V5c0-1.1-.9-2-2-2zM9 17H7v-7h2v7zm4 0h-2V7h2v10zm4 0h-2v-4h2v4z\"/>\n",
              "    </g>\n",
              "</svg>\n",
              "  </button>\n",
              "\n",
              "<style>\n",
              "  .colab-df-quickchart {\n",
              "      --bg-color: #E8F0FE;\n",
              "      --fill-color: #1967D2;\n",
              "      --hover-bg-color: #E2EBFA;\n",
              "      --hover-fill-color: #174EA6;\n",
              "      --disabled-fill-color: #AAA;\n",
              "      --disabled-bg-color: #DDD;\n",
              "  }\n",
              "\n",
              "  [theme=dark] .colab-df-quickchart {\n",
              "      --bg-color: #3B4455;\n",
              "      --fill-color: #D2E3FC;\n",
              "      --hover-bg-color: #434B5C;\n",
              "      --hover-fill-color: #FFFFFF;\n",
              "      --disabled-bg-color: #3B4455;\n",
              "      --disabled-fill-color: #666;\n",
              "  }\n",
              "\n",
              "  .colab-df-quickchart {\n",
              "    background-color: var(--bg-color);\n",
              "    border: none;\n",
              "    border-radius: 50%;\n",
              "    cursor: pointer;\n",
              "    display: none;\n",
              "    fill: var(--fill-color);\n",
              "    height: 32px;\n",
              "    padding: 0;\n",
              "    width: 32px;\n",
              "  }\n",
              "\n",
              "  .colab-df-quickchart:hover {\n",
              "    background-color: var(--hover-bg-color);\n",
              "    box-shadow: 0 1px 2px rgba(60, 64, 67, 0.3), 0 1px 3px 1px rgba(60, 64, 67, 0.15);\n",
              "    fill: var(--button-hover-fill-color);\n",
              "  }\n",
              "\n",
              "  .colab-df-quickchart-complete:disabled,\n",
              "  .colab-df-quickchart-complete:disabled:hover {\n",
              "    background-color: var(--disabled-bg-color);\n",
              "    fill: var(--disabled-fill-color);\n",
              "    box-shadow: none;\n",
              "  }\n",
              "\n",
              "  .colab-df-spinner {\n",
              "    border: 2px solid var(--fill-color);\n",
              "    border-color: transparent;\n",
              "    border-bottom-color: var(--fill-color);\n",
              "    animation:\n",
              "      spin 1s steps(1) infinite;\n",
              "  }\n",
              "\n",
              "  @keyframes spin {\n",
              "    0% {\n",
              "      border-color: transparent;\n",
              "      border-bottom-color: var(--fill-color);\n",
              "      border-left-color: var(--fill-color);\n",
              "    }\n",
              "    20% {\n",
              "      border-color: transparent;\n",
              "      border-left-color: var(--fill-color);\n",
              "      border-top-color: var(--fill-color);\n",
              "    }\n",
              "    30% {\n",
              "      border-color: transparent;\n",
              "      border-left-color: var(--fill-color);\n",
              "      border-top-color: var(--fill-color);\n",
              "      border-right-color: var(--fill-color);\n",
              "    }\n",
              "    40% {\n",
              "      border-color: transparent;\n",
              "      border-right-color: var(--fill-color);\n",
              "      border-top-color: var(--fill-color);\n",
              "    }\n",
              "    60% {\n",
              "      border-color: transparent;\n",
              "      border-right-color: var(--fill-color);\n",
              "    }\n",
              "    80% {\n",
              "      border-color: transparent;\n",
              "      border-right-color: var(--fill-color);\n",
              "      border-bottom-color: var(--fill-color);\n",
              "    }\n",
              "    90% {\n",
              "      border-color: transparent;\n",
              "      border-bottom-color: var(--fill-color);\n",
              "    }\n",
              "  }\n",
              "</style>\n",
              "\n",
              "  <script>\n",
              "    async function quickchart(key) {\n",
              "      const quickchartButtonEl =\n",
              "        document.querySelector('#' + key + ' button');\n",
              "      quickchartButtonEl.disabled = true;  // To prevent multiple clicks.\n",
              "      quickchartButtonEl.classList.add('colab-df-spinner');\n",
              "      try {\n",
              "        const charts = await google.colab.kernel.invokeFunction(\n",
              "            'suggestCharts', [key], {});\n",
              "      } catch (error) {\n",
              "        console.error('Error during call to suggestCharts:', error);\n",
              "      }\n",
              "      quickchartButtonEl.classList.remove('colab-df-spinner');\n",
              "      quickchartButtonEl.classList.add('colab-df-quickchart-complete');\n",
              "    }\n",
              "    (() => {\n",
              "      let quickchartButtonEl =\n",
              "        document.querySelector('#df-3f77b341-b1ce-4271-adcb-6f470e8ba02e button');\n",
              "      quickchartButtonEl.style.display =\n",
              "        google.colab.kernel.accessAllowed ? 'block' : 'none';\n",
              "    })();\n",
              "  </script>\n",
              "</div>\n",
              "\n",
              "  <div id=\"id_f29786a6-1c7a-4d32-aa73-a1a3a6cf25f1\">\n",
              "    <style>\n",
              "      .colab-df-generate {\n",
              "        background-color: #E8F0FE;\n",
              "        border: none;\n",
              "        border-radius: 50%;\n",
              "        cursor: pointer;\n",
              "        display: none;\n",
              "        fill: #1967D2;\n",
              "        height: 32px;\n",
              "        padding: 0 0 0 0;\n",
              "        width: 32px;\n",
              "      }\n",
              "\n",
              "      .colab-df-generate:hover {\n",
              "        background-color: #E2EBFA;\n",
              "        box-shadow: 0px 1px 2px rgba(60, 64, 67, 0.3), 0px 1px 3px 1px rgba(60, 64, 67, 0.15);\n",
              "        fill: #174EA6;\n",
              "      }\n",
              "\n",
              "      [theme=dark] .colab-df-generate {\n",
              "        background-color: #3B4455;\n",
              "        fill: #D2E3FC;\n",
              "      }\n",
              "\n",
              "      [theme=dark] .colab-df-generate:hover {\n",
              "        background-color: #434B5C;\n",
              "        box-shadow: 0px 1px 3px 1px rgba(0, 0, 0, 0.15);\n",
              "        filter: drop-shadow(0px 1px 2px rgba(0, 0, 0, 0.3));\n",
              "        fill: #FFFFFF;\n",
              "      }\n",
              "    </style>\n",
              "    <button class=\"colab-df-generate\" onclick=\"generateWithVariable('energy_df')\"\n",
              "            title=\"Generate code using this dataframe.\"\n",
              "            style=\"display:none;\">\n",
              "\n",
              "  <svg xmlns=\"http://www.w3.org/2000/svg\" height=\"24px\"viewBox=\"0 0 24 24\"\n",
              "       width=\"24px\">\n",
              "    <path d=\"M7,19H8.4L18.45,9,17,7.55,7,17.6ZM5,21V16.75L18.45,3.32a2,2,0,0,1,2.83,0l1.4,1.43a1.91,1.91,0,0,1,.58,1.4,1.91,1.91,0,0,1-.58,1.4L9.25,21ZM18.45,9,17,7.55Zm-12,3A5.31,5.31,0,0,0,4.9,8.1,5.31,5.31,0,0,0,1,6.5,5.31,5.31,0,0,0,4.9,4.9,5.31,5.31,0,0,0,6.5,1,5.31,5.31,0,0,0,8.1,4.9,5.31,5.31,0,0,0,12,6.5,5.46,5.46,0,0,0,6.5,12Z\"/>\n",
              "  </svg>\n",
              "    </button>\n",
              "    <script>\n",
              "      (() => {\n",
              "      const buttonEl =\n",
              "        document.querySelector('#id_f29786a6-1c7a-4d32-aa73-a1a3a6cf25f1 button.colab-df-generate');\n",
              "      buttonEl.style.display =\n",
              "        google.colab.kernel.accessAllowed ? 'block' : 'none';\n",
              "\n",
              "      buttonEl.onclick = () => {\n",
              "        google.colab.notebook.generateWithVariable('energy_df');\n",
              "      }\n",
              "      })();\n",
              "    </script>\n",
              "  </div>\n",
              "\n",
              "    </div>\n",
              "  </div>\n"
            ],
            "application/vnd.google.colaboratory.intrinsic+json": {
              "type": "dataframe",
              "variable_name": "energy_df",
              "summary": "{\n  \"name\": \"energy_df\",\n  \"rows\": 5,\n  \"fields\": [\n    {\n      \"column\": \"\\u05e9\\u05e0\\u05d4\",\n      \"properties\": {\n        \"dtype\": \"number\",\n        \"std\": 1,\n        \"min\": 2019,\n        \"max\": 2023,\n        \"num_unique_values\": 5,\n        \"samples\": [\n          2020,\n          2023,\n          2021\n        ],\n        \"semantic_type\": \"\",\n        \"description\": \"\"\n      }\n    },\n    {\n      \"column\": \"\\u05e6\\u05e8\\u05d9\\u05db\\u05ea \\u05d0\\u05e0\\u05e8\\u05d2\\u05d9\\u05d4 \\u05db\\u05d5\\u05dc\\u05dc\\u05ea\",\n      \"properties\": {\n        \"dtype\": \"number\",\n        \"std\": 0.0,\n        \"min\": 100.0,\n        \"max\": 100.0,\n        \"num_unique_values\": 1,\n        \"samples\": [\n          100.0\n        ],\n        \"semantic_type\": \"\",\n        \"description\": \"\"\n      }\n    },\n    {\n      \"column\": \"\\u05e4\\u05d7\\u05dd\",\n      \"properties\": {\n        \"dtype\": \"number\",\n        \"std\": 1.1747680622148355,\n        \"min\": 11.91,\n        \"max\": 14.76,\n        \"num_unique_values\": 5,\n        \"samples\": [\n          13.31\n        ],\n        \"semantic_type\": \"\",\n        \"description\": \"\"\n      }\n    },\n    {\n      \"column\": \"\\u05d2\\u05d6 \\u05d8\\u05d1\\u05e2\\u05d9\",\n      \"properties\": {\n        \"dtype\": \"number\",\n        \"std\": 1.6105433865624363,\n        \"min\": 39.8,\n        \"max\": 43.61,\n        \"num_unique_values\": 5,\n        \"samples\": [\n          43.4\n        ],\n        \"semantic_type\": \"\",\n        \"description\": \"\"\n      }\n    },\n    {\n      \"column\": \"\\u05e0\\u05e4\\u05d8 \\u05d5\\u05de\\u05d5\\u05e6\\u05e8\\u05d9\\u05d5\",\n      \"properties\": {\n        \"dtype\": \"number\",\n        \"std\": 1.4824709103385476,\n        \"min\": 42.67,\n        \"max\": 46.77,\n        \"num_unique_values\": 5,\n        \"samples\": [\n          44.03\n        ],\n        \"semantic_type\": \"\",\n        \"description\": \"\"\n      }\n    },\n    {\n      \"column\": \"\\u05d0\\u05e0\\u05e8\\u05d2\\u05d9\\u05d5\\u05ea \\u05de\\u05ea\\u05d7\\u05d3\\u05e9\\u05d5\\u05ea \\u05d5\\u05d0\\u05d7\\u05e8\\u05d5\\u05ea\",\n      \"properties\": {\n        \"dtype\": \"number\",\n        \"std\": 0.5511533361960173,\n        \"min\": -1.09,\n        \"max\": 0.38,\n        \"num_unique_values\": 5,\n        \"samples\": [\n          -0.74\n        ],\n        \"semantic_type\": \"\",\n        \"description\": \"\"\n      }\n    }\n  ]\n}"
            }
          },
          "metadata": {}
        }
      ]
    },
    {
      "cell_type": "markdown",
      "source": [
        "# פרק 2: משפטי תנאי\n",
        "\n",
        "הסבר: בפרק זה אנו מדגימים שימוש במשפטי תנאי (if/else) כדי לבדוק האם אחוז השימוש בפחם עובר סף מסוים."
      ],
      "metadata": {
        "id": "Jj7KpxDtN7SM"
      }
    },
    {
      "cell_type": "code",
      "source": [
        "threshold = 14  # אחוז סף לפחם\n",
        "for year in energy_data:\n",
        "    if year[\"פחם\"] > threshold:\n",
        "        print(f\"בשנת {year['שנה']}, אחוז הפחם ({year['פחם']}%) גבוה מהרצוי!\")"
      ],
      "metadata": {
        "colab": {
          "base_uri": "https://localhost:8080/"
        },
        "id": "efDM72I9OAqt",
        "outputId": "faf7b2b0-fbef-40be-c18d-067640c2cd2b"
      },
      "execution_count": 12,
      "outputs": [
        {
          "output_type": "stream",
          "name": "stdout",
          "text": [
            "בשנת 2019, אחוז הפחם (14.53%) גבוה מהרצוי!\n",
            "בשנת 2021, אחוז הפחם (14.76%) גבוה מהרצוי!\n",
            "בשנת 2022, אחוז הפחם (14.31%) גבוה מהרצוי!\n"
          ]
        }
      ]
    },
    {
      "cell_type": "markdown",
      "source": [
        "# פרק 3: לולאות\n",
        "\n",
        "הסבר: בפרק זה אנו מדגימים שימוש בלולאות for לחישוב ממוצע טמפרטורות שבועי.\n"
      ],
      "metadata": {
        "id": "Q3O85mlvOTRU"
      }
    },
    {
      "cell_type": "code",
      "source": [
        "\n",
        "weekly_temperatures = [28.5, 30.2, 27.8, 29.1, 31.0, 30.5, 28.9]\n",
        "sum_temp = 0\n",
        "for temp in weekly_temperatures:\n",
        "    sum_temp += temp\n",
        "average_temp = sum_temp / len(weekly_temperatures)\n",
        "print(f\"הטמפרטורה הממוצעת השבועית היא: {average_temp:.2f}°C\")"
      ],
      "metadata": {
        "colab": {
          "base_uri": "https://localhost:8080/"
        },
        "id": "TZZgCRMyOc1F",
        "outputId": "eeffede0-36be-4a84-9ea8-e9889e17d783"
      },
      "execution_count": 13,
      "outputs": [
        {
          "output_type": "stream",
          "name": "stdout",
          "text": [
            "הטמפרטורה הממוצעת השבועית היא: 29.43°C\n"
          ]
        }
      ]
    },
    {
      "cell_type": "markdown",
      "source": [
        "# פרק 4: ויזואליזציה\n",
        "\n",
        "הסבר: בפרק האחרון אנו מדגימים שימוש בספריית matplotlib ליצירת גרף קווי המציג את מגמות צריכת האנרגיה לאורך השנים.\n"
      ],
      "metadata": {
        "id": "GnewcTafO34n"
      }
    },
    {
      "cell_type": "code",
      "source": [
        "\n",
        "# ==== פרק 4: הצגת גרף ====\n",
        "print(\"\\n\\033[1mפרק 4: הצגת גרף\\033[0m\\n\")\n",
        "plt.figure(figsize=(8, 5))\n",
        "plt.plot(energy_df[\"שנה\"], energy_df[\"פחם\"], label=\"פחם\", marker=\"o\")\n",
        "plt.plot(energy_df[\"שנה\"], energy_df[\"גז טבעי\"], label=\"גז טבעי\", marker=\"s\")\n",
        "plt.plot(energy_df[\"שנה\"], energy_df[\"נפט ומוצריו\"], label=\"נפט ומוצריו\", marker=\"^\")\n",
        "plt.plot(energy_df[\"שנה\"], energy_df[\"אנרגיות מתחדשות ואחרות\"], label=\"אנרגיות מתחדשות\", marker=\"x\")\n",
        "plt.xlabel(\"שנה\")\n",
        "plt.ylabel(\"אחוזים\")\n",
        "plt.title(\"צריכת אנרגיה בישראל\")\n",
        "plt.legend()\n",
        "plt.grid()\n",
        "plt.show()"
      ],
      "metadata": {
        "colab": {
          "base_uri": "https://localhost:8080/",
          "height": 539
        },
        "id": "9acwramOO9Ad",
        "outputId": "381f52f4-6469-4301-c0ff-01bfd1ca93c1"
      },
      "execution_count": 22,
      "outputs": [
        {
          "output_type": "stream",
          "name": "stdout",
          "text": [
            "\n",
            "\u001b[1mפרק 4: הצגת גרף\u001b[0m\n",
            "\n"
          ]
        },
        {
          "output_type": "display_data",
          "data": {
            "text/plain": [
              "<Figure size 800x500 with 1 Axes>"
            ],
            "image/png": "[encoded data removed]"
          },
          "metadata": {}
        }
      ]
    }
  ]
}